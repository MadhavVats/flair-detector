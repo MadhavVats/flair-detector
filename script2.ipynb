{
 "cells": [
  {
   "cell_type": "code",
   "execution_count": 11,
   "metadata": {},
   "outputs": [],
   "source": [
    "import praw\n",
    "import pandas as pd\n",
    "from sklearn.feature_extraction.text import TfidfVectorizer\n",
    "from sklearn.model_selection import train_test_split\n",
    "import pickle\n",
    "from sklearn.naive_bayes import MultinomialNB\n",
    "from sklearn.linear_model import LogisticRegression\n",
    "from sklearn.ensemble import RandomForestClassifier\n",
    "from sklearn.svm import LinearSVC\n",
    "from sklearn.model_selection import cross_val_score"
   ]
  },
  {
   "cell_type": "code",
   "execution_count": 8,
   "metadata": {},
   "outputs": [
    {
     "name": "stdout",
     "output_type": "stream",
     "text": [
      "     flairs                                             titles  upvotes  \\\n",
      "0  AskIndia  Need feedback for Insurance Policy that I took...        1   \n",
      "1  AskIndia   Somebody want to kill my full family what to do?       96   \n",
      "2  AskIndia  Ambassador of India takes back my newly issued...       13   \n",
      "3  AskIndia             [AskIndia] Cingari, Cengar or Tzengar?        0   \n",
      "4  AskIndia  Recommendations for books on Indian history wr...       17   \n",
      "\n",
      "       id                                                url  num_comms  \\\n",
      "0  1s57oi  https://www.reddit.com/r/india/comments/1s57oi...          1   \n",
      "1  b7pvwt  https://www.reddit.com/r/india/comments/b7pvwt...         24   \n",
      "2  bdfid1  https://www.reddit.com/r/india/comments/bdfid1...         27   \n",
      "3  18ntue  https://www.reddit.com/r/india/comments/18ntue...          0   \n",
      "4  avt1qx  https://www.reddit.com/r/india/comments/avt1qx...          9   \n",
      "\n",
      "        created                                            content  \\\n",
      "0  1.386254e+09  **Re-posting here because of lack of activity ...   \n",
      "1  1.554080e+09  It's now 24hrs, But local police station is no...   \n",
      "2  1.555361e+09  Hello /AskIndia!  First time poster, long time...   \n",
      "3  1.361085e+09  Hello,\\n\\nI submitted this to /r/rAskIndia a w...   \n",
      "4  1.551400e+09  Hello r/India.\\n\\nI'm British and would like t...   \n",
      "\n",
      "                     op                                           comments  \n",
      "0         dhavalcoholic   Dear Policy Holder(Dhavalcoholic),\\n \\nWe req...  \n",
      "1       amitkumarthakur   Calm down.\\nGo to the SP office of your town,...  \n",
      "2  FrustratedOCIHopeful   Honestly, she and her supervisor behaved *exa...  \n",
      "3             multubunu                                                     \n",
      "4         PoiHolloi2020   The Discovery of India by J.Nehru.\\n\\nYou wil...  \n"
     ]
    }
   ],
   "source": [
    "reddit = praw.Reddit(client_id='MwhK0qtk4ZqRdw', client_secret='cjytrTxD1OR4KtmEyZRk6wY7tfI', user_agent='flair' ,username='gcgvhjchvt2244')\n",
    "flairs_list = [\"AskIndia\", \"Non-Political\", \"[R]eddiquette\", \"Scheduled\", \"Photography\", \"Science/Technology\", \"Politics\", \"Business/Finance\", \"Policy/Economy\", \"Sports\", \"Food\", \"AMA\"]\n",
    "sub = reddit.subreddit('india')\n",
    "data_dict = {\"flairs\":[], \"titles\":[], \"upvotes\":[], \"id\":[], \"url\":[], \"num_comms\": [], \"created\": [], \"content\":[], \"op\":[], \"comments\":[]}\n",
    "\n",
    "for flair in flairs_list:\n",
    "    posts = sub.search(flair, limit=110)\n",
    "    for post in posts:\n",
    "        data_dict[\"flairs\"].append(flair)\n",
    "        data_dict[\"titles\"].append(post.title)\n",
    "        data_dict[\"upvotes\"].append(post.score)\n",
    "        data_dict[\"id\"].append(post.id)\n",
    "        data_dict[\"url\"].append(post.url)\n",
    "        data_dict[\"num_comms\"].append(post.num_comments)\n",
    "        data_dict[\"created\"].append(post.created)\n",
    "        data_dict[\"content\"].append(post.selftext)\n",
    "        data_dict[\"op\"].append(post.author)\n",
    "\n",
    "        post.comments.replace_more(limit=None)\n",
    "        comment = ''\n",
    "        for top_level_comment in post.comments:\n",
    "            comment += ' ' + top_level_comment.body\n",
    "        data_dict[\"comments\"].append(comment)\n",
    "\n",
    "data_df = pd.DataFrame(data_dict)\n",
    "print(data_df.head())"
   ]
  },
  {
   "cell_type": "code",
   "execution_count": 9,
   "metadata": {},
   "outputs": [
    {
     "data": {
      "text/plain": [
       "0        Dear Policy Holder(Dhavalcoholic),\\n \\nWe req...\n",
       "1        Calm down.\\nGo to the SP office of your town,...\n",
       "2        Honestly, she and her supervisor behaved *exa...\n",
       "3                                                        \n",
       "4        The Discovery of India by J.Nehru.\\n\\nYou wil...\n",
       "                              ...                        \n",
       "1223     I just hope he completely attends the AMA and...\n",
       "1224     Guys, can someone explain why randia is bashi...\n",
       "1225     Nobody knows the future. We never saw it cumm...\n",
       "1226     There is a context to that statement. \\n\\nPlu...\n",
       "1227     1 large popcorn + 1 large cold drink = Rs. 21...\n",
       "Name: comments, Length: 1228, dtype: object"
      ]
     },
     "execution_count": 9,
     "metadata": {},
     "output_type": "execute_result"
    }
   ],
   "source": [
    "data_df['comments']"
   ]
  },
  {
   "cell_type": "code",
   "execution_count": 14,
   "metadata": {},
   "outputs": [
    {
     "data": {
      "text/plain": [
       "['fitted_vectorizer']"
      ]
     },
     "execution_count": 14,
     "metadata": {},
     "output_type": "execute_result"
    }
   ],
   "source": [
    "\n",
    "tfidf = TfidfVectorizer(sublinear_tf=True, min_df=5,\n",
    "                        ngram_range=(1, 2), \n",
    "                        stop_words='english')\n",
    "\n",
    "X_train, X_test, y_train, y_test = train_test_split(data_df['titles']+data_df['comments']+data_df['content'], data_df['flairs'], random_state= 0)\n",
    "\n",
    "fitted_vectorizer = tfidf.fit(X_train)\n",
    "tfidf_vectorizer_vectors = fitted_vectorizer.transform(X_train)\n",
    "model = LinearSVC().fit(tfidf_vectorizer_vectors, y_train)\n",
    "# # (model.predict(fitted_vectorizer.transform([data])))\n",
    "# with open('model_pickle','wb') as file:\n",
    "#     pickle.dump(model,file)\n",
    "\n",
    "\n",
    "from sklearn.externals import joblib\n",
    "\n",
    "joblib.dump(model, 'model_joblib')\n",
    "joblib.dump(fitted_vectorizer, 'fitted_vectorizer')"
   ]
  },
  {
   "cell_type": "code",
   "execution_count": 13,
   "metadata": {},
   "outputs": [
    {
     "name": "stdout",
     "output_type": "stream",
     "text": [
      "Each of the 1228 complaints is represented by 10463 features (TF-IDF score of unigrams and bigrams)\n"
     ]
    },
    {
     "name": "stderr",
     "output_type": "stream",
     "text": [
      "/usr/local/lib/python3.7/dist-packages/sklearn/linear_model/logistic.py:432: FutureWarning: Default solver will be changed to 'lbfgs' in 0.22. Specify a solver to silence this warning.\n",
      "  FutureWarning)\n",
      "/usr/local/lib/python3.7/dist-packages/sklearn/linear_model/logistic.py:469: FutureWarning: Default multi_class will be changed to 'auto' in 0.22. Specify the multi_class option to silence this warning.\n",
      "  \"this warning.\", FutureWarning)\n",
      "/usr/local/lib/python3.7/dist-packages/sklearn/linear_model/logistic.py:432: FutureWarning: Default solver will be changed to 'lbfgs' in 0.22. Specify a solver to silence this warning.\n",
      "  FutureWarning)\n",
      "/usr/local/lib/python3.7/dist-packages/sklearn/linear_model/logistic.py:469: FutureWarning: Default multi_class will be changed to 'auto' in 0.22. Specify the multi_class option to silence this warning.\n",
      "  \"this warning.\", FutureWarning)\n",
      "/usr/local/lib/python3.7/dist-packages/sklearn/linear_model/logistic.py:432: FutureWarning: Default solver will be changed to 'lbfgs' in 0.22. Specify a solver to silence this warning.\n",
      "  FutureWarning)\n",
      "/usr/local/lib/python3.7/dist-packages/sklearn/linear_model/logistic.py:469: FutureWarning: Default multi_class will be changed to 'auto' in 0.22. Specify the multi_class option to silence this warning.\n",
      "  \"this warning.\", FutureWarning)\n",
      "/usr/local/lib/python3.7/dist-packages/sklearn/linear_model/logistic.py:432: FutureWarning: Default solver will be changed to 'lbfgs' in 0.22. Specify a solver to silence this warning.\n",
      "  FutureWarning)\n",
      "/usr/local/lib/python3.7/dist-packages/sklearn/linear_model/logistic.py:469: FutureWarning: Default multi_class will be changed to 'auto' in 0.22. Specify the multi_class option to silence this warning.\n",
      "  \"this warning.\", FutureWarning)\n",
      "/usr/local/lib/python3.7/dist-packages/sklearn/linear_model/logistic.py:432: FutureWarning: Default solver will be changed to 'lbfgs' in 0.22. Specify a solver to silence this warning.\n",
      "  FutureWarning)\n",
      "/usr/local/lib/python3.7/dist-packages/sklearn/linear_model/logistic.py:469: FutureWarning: Default multi_class will be changed to 'auto' in 0.22. Specify the multi_class option to silence this warning.\n",
      "  \"this warning.\", FutureWarning)\n"
     ]
    },
    {
     "data": {
      "text/html": [
       "<div>\n",
       "<style scoped>\n",
       "    .dataframe tbody tr th:only-of-type {\n",
       "        vertical-align: middle;\n",
       "    }\n",
       "\n",
       "    .dataframe tbody tr th {\n",
       "        vertical-align: top;\n",
       "    }\n",
       "\n",
       "    .dataframe thead th {\n",
       "        text-align: right;\n",
       "    }\n",
       "</style>\n",
       "<table border=\"1\" class=\"dataframe\">\n",
       "  <thead>\n",
       "    <tr style=\"text-align: right;\">\n",
       "      <th></th>\n",
       "      <th>Mean Accuracy</th>\n",
       "      <th>Standard deviation</th>\n",
       "    </tr>\n",
       "    <tr>\n",
       "      <th>model_name</th>\n",
       "      <th></th>\n",
       "      <th></th>\n",
       "    </tr>\n",
       "  </thead>\n",
       "  <tbody>\n",
       "    <tr>\n",
       "      <th>LinearSVC</th>\n",
       "      <td>0.821702</td>\n",
       "      <td>0.043991</td>\n",
       "    </tr>\n",
       "    <tr>\n",
       "      <th>LogisticRegression</th>\n",
       "      <td>0.794813</td>\n",
       "      <td>0.050424</td>\n",
       "    </tr>\n",
       "    <tr>\n",
       "      <th>MultinomialNB</th>\n",
       "      <td>0.696270</td>\n",
       "      <td>0.034636</td>\n",
       "    </tr>\n",
       "    <tr>\n",
       "      <th>RandomForestClassifier</th>\n",
       "      <td>0.785087</td>\n",
       "      <td>0.082937</td>\n",
       "    </tr>\n",
       "  </tbody>\n",
       "</table>\n",
       "</div>"
      ],
      "text/plain": [
       "                        Mean Accuracy  Standard deviation\n",
       "model_name                                               \n",
       "LinearSVC                    0.821702            0.043991\n",
       "LogisticRegression           0.794813            0.050424\n",
       "MultinomialNB                0.696270            0.034636\n",
       "RandomForestClassifier       0.785087            0.082937"
      ]
     },
     "execution_count": 13,
     "metadata": {},
     "output_type": "execute_result"
    }
   ],
   "source": [
    "\n",
    "data_df['category_id'] = data_df['flairs'].factorize()[0]\n",
    "category_id_df = data_df[['flairs', 'category_id']].drop_duplicates()\n",
    "\n",
    "\n",
    "# Dictionaries for future use\n",
    "category_to_id = dict(category_id_df.values)\n",
    "id_to_category = dict(category_id_df[['category_id', 'flairs']].values)\n",
    "tfidf = TfidfVectorizer(sublinear_tf=True, min_df=5,\n",
    "                        ngram_range=(1, 2),\n",
    "                        stop_words='english')\n",
    "\n",
    "# We transform each complaint into a vector\n",
    "features = tfidf.fit_transform(data_df.comments+data_df.titles+data_df.content).toarray()\n",
    "\n",
    "labels = data_df.category_id\n",
    "\n",
    "print(\"Each of the %d complaints is represented by %d features (TF-IDF score of unigrams and bigrams)\" % (features.shape))\n",
    "X = data_df['comments']  # Collection of documents\n",
    "# Target or the labels we want to predict (i.e., the 13 different complaints of flairss)\n",
    "y = data_df['flairs']\n",
    "\n",
    "X_train, X_test, y_train, y_test = train_test_split(X, y,\n",
    "                                                    test_size=0.25,\n",
    "                                                    random_state=0)\n",
    "models = [\n",
    "    RandomForestClassifier(n_estimators=100, max_depth=5, random_state=0),\n",
    "    LinearSVC(),\n",
    "    MultinomialNB(),\n",
    "    LogisticRegression(random_state=0),\n",
    "]\n",
    "\n",
    "# 5 Cross-validation\n",
    "CV = 5\n",
    "cv_df = pd.DataFrame(index=range(CV * len(models)))\n",
    "\n",
    "entries = []\n",
    "for model in models:\n",
    "  model_name = model.__class__.__name__\n",
    "  accuracies = cross_val_score(\n",
    "      model, features, labels, scoring='accuracy', cv=CV)\n",
    "  for i in range(len(accuracies)):\n",
    "    entries.append((model_name, i, accuracies[i]))\n",
    "\n",
    "cv_df = pd.DataFrame(entries, columns=['model_name', 'fold_idx', 'accuracy'])\n",
    "mean_accuracy = cv_df.groupby('model_name').accuracy.mean()\n",
    "std_accuracy = cv_df.groupby('model_name').accuracy.std()\n",
    "\n",
    "acc = pd.concat([mean_accuracy, std_accuracy], axis=1,\n",
    "                ignore_index=True)\n",
    "acc.columns = ['Mean Accuracy', 'Standard deviation']\n",
    "acc\n"
   ]
  },
  {
   "cell_type": "code",
   "execution_count": null,
   "metadata": {},
   "outputs": [],
   "source": []
  },
  {
   "cell_type": "code",
   "execution_count": null,
   "metadata": {},
   "outputs": [],
   "source": []
  },
  {
   "cell_type": "code",
   "execution_count": null,
   "metadata": {},
   "outputs": [],
   "source": []
  }
 ],
 "metadata": {
  "kernelspec": {
   "display_name": "Python 3",
   "language": "python",
   "name": "python3"
  },
  "language_info": {
   "codemirror_mode": {
    "name": "ipython",
    "version": 3
   },
   "file_extension": ".py",
   "mimetype": "text/x-python",
   "name": "python",
   "nbconvert_exporter": "python",
   "pygments_lexer": "ipython3",
   "version": "3.7.3"
  }
 },
 "nbformat": 4,
 "nbformat_minor": 2
}
